{
 "metadata": {
  "name": ""
 },
 "nbformat": 3,
 "nbformat_minor": 0,
 "worksheets": [
  {
   "cells": [
    {
     "cell_type": "markdown",
     "metadata": {},
     "source": [
      "<div align='center' ><img src='https://raw.github.com/davidrpugh/computational-econ-labs/master/graduate/images/sgpe-logo.jpg' width=\"1200\" height=\"100\"></div>\n",
      "<div align='center' ><img src='https://raw.github.com/davidrpugh/computational-econ-labs/master/graduate/images/sirelogo.jpg' width=\"1200\" height=\"100\"></div>\n",
      "\n",
      "# *Numerical Methods for Economists: The Solow (1956) Model*\n",
      "\n",
      "Welcome to the first official *Numerical Methods for Economists* lab session! This focus of this lab session will be solving and simulating the Solow model of economic growth from Chapter 1 of Romer's *Advanced Macroeconomics*. Although Romer's treatment is excellent, I highly recommend reading [Solow's original journal article](http://www.csus.edu/indiv/o/onure/econ200A/Readings/Solow.pdf).\n",
      "\n",
      "Here is a quick summary of what we will cover today:\n",
      "\n",
      "* **Task 1:** Coding the Solow model in Python.\n",
      "* **Task 2:** Calibrating the model using data from the Penn World Tables.\n",
      "* **Task 3:** Graphical analysis of the Solow model using Matplotlib.\n",
      "* **Task 4:** Assessing the stability of the Solow model.\n",
      "* **Task 5:** Simulating the Solow model.\n",
      "* **Task 6:** Finite-difference methods for solving initial value problems.\n",
      "* **Task 7:** Piece-wise linear interpolation."
     ]
    },
    {
     "cell_type": "markdown",
     "metadata": {},
     "source": [
      "## Task 1: Coding the Solow model in Python  \n",
      "\n",
      "In this task you will learn how to program a continuous time version of the Solow model in Python. Before we starting writing code, we should stop and think about the \"primitives\" (i.e., basic bulding blocks) of a Solow model. Writing code that uses the only the most basic bulding blocks will allows us to use the same code to solve and simulate as a general a model as possible.\n",
      "\n",
      "The classic Solow growth model is completely described by the equation of motion for capital (per person/effective person)\n",
      "\n",
      "\\begin{equation} \n",
      "  \\dot{k} = sf(k(t)) - (n + g + \\delta)k(t). \\tag{1.1}\n",
      "\\end{equation}\n",
      "\n",
      "Thus in order to construct the equation of motion for capital, we need only specify a functional form for $f$ and provide some values for the parameters $s,\\ n,\\ g,\\ \\delta,\\ \\alpha$. A common functional form for technology is the [constant elasticity of substitution (CES)](http://en.wikipedia.org/wiki/Constant_elasticity_of_substitution) production function\n",
      "\n",
      "\\begin{equation}\n",
      "  Y(t) = \\bigg[\\alpha K(t)^{\\rho} + (1-\\alpha) (A(t)L(t))^{\\rho}\\bigg]^{\\frac{1}{\\rho}} \\tag{1.2}\n",
      "\\end{equation}\n",
      "\n",
      "where $0 < \\alpha < 1$ and $-\\infty < \\rho < 1$. The parameter $\\rho = \\frac{\\sigma - 1}{\\sigma}$ where $\\sigma$ is the elasticity of substitution between factors of production. The CES production technology is popular because it nests several interesing special cases.  In particular, if factors of production are perfect substitutes (i.e., $\\sigma = +\\infty \\implies \\rho = 1$), then output is just a linear combination of the inputs.\n",
      "\n",
      "\\begin{equation}\n",
      "  \\lim_{\\rho \\rightarrow 1} Y(t) = \\alpha K(t) + (1-\\alpha)A(t)L(t) \\tag{1.3}\n",
      "\\end{equation}\n",
      "                                    \n",
      "On the other hand, if factors of production are perfect complements (i.e., $\\sigma = 0 \\implies \\rho = -\\infty$), then we recover the [Leontief production function](http://en.wikipedia.org/wiki/Leontief_production_function).\n",
      "                             \n",
      "\\begin{equation}\n",
      "  \\lim_{\\rho \\rightarrow -\\infty} Y(t) = \\min\\left\\{\\alpha K(t), (1-\\alpha) A(t)L(t)\\right\\} \\tag{1.4}\n",
      "\\end{equation}\n",
      "\n",
      "Finally, if the elasticity of substitution is unitary (i.e., $\\sigma=1 \\implies \\rho=0$), then output is [Cobb-Douglas](http://en.wikipedia.org/wiki/Cobb%E2%80%93Douglas_production_function).\n",
      "\n",
      "\\begin{equation}\n",
      "  \\lim_{\\rho \\rightarrow 0} Y(t) = K(t)^{\\alpha}(A(t)L(t))^{1-\\alpha} \\tag{1.5}\n",
      "\\end{equation}\n",
      "\n",
      "For the remainder of the lab we will work with the intensive form of the Cobb-Douglas prodution technology.\n",
      "\n",
      "\\begin{equation}\n",
      "  y(t) = \\frac{Y(t)}{A(t)L(t)} = f(k) = k(t)^{\\alpha} \\tag{1.6}\n",
      "\\end{equation}\n",
      "\n",
      "Now that we have chosen our functional form for production, we are ready to code the Solow model. We being with some standard import statements: \n",
      "\n",
      "* **[numpy](http://www.numpy.org/)**: The foundation upon which all scientific computing is Python is built.\n",
      "* **[pandas](http://pandas.pydata.org/)**: Kick-ass tool for data analysis in Python. Pandas combined with statsmodels can do most all of your econometrics. Pandas is quickly becoming a standard tool for analysis of financial data.\n",
      "* **[scipy](http://www.scipy.org/)**: SciPy is open-source software for mathematics, science, and engineering. It is also the name of a very popular conference on scientific programming with Python. SciPy is built on top of NumPy.\n",
      "* **[matplotlib](http://matplotlib.org/)**: Primary graphics engine for Python.\n",
      "* **growth**: A Python module for solving and simulating continuous-time growth models."
     ]
    },
    {
     "cell_type": "code",
     "collapsed": false,
     "input": [
      "import numpy as np\n",
      "import pandas as pd\n",
      "from scipy import integrate, interpolate, linalg, optimize\n",
      "import matplotlib as mpl\n",
      "import matplotlib.pyplot as plt\n",
      "\n",
      "# for the first few labs we will be working with models of growth\n",
      "import growth\n",
      "import pwt"
     ],
     "language": "python",
     "metadata": {},
     "outputs": [],
     "prompt_number": 1
    },
    {
     "cell_type": "markdown",
     "metadata": {},
     "source": [
      "### Coding $f(k)$ and $f'(k)$ in Python:\n",
      "\n",
      "Once we have settled on the Cobb-Douglas functional form for production, we need to write [Python functions](http://www.greenteapress.com/thinkpython/html/thinkpython007.html) which encode the intensive form of the Cobb-Douglas production technology and the marginal product of capital. "
     ]
    },
    {
     "cell_type": "code",
     "collapsed": false,
     "input": [
      "def cobb_douglas_output(t, k, params):\n",
      "    \"\"\"\n",
      "    Cobb-Douglas production function.\n",
      "\n",
      "    Arguments:\n",
      "\n",
      "        t:      (array-like) Time.\n",
      "        k:      (array-like) Capital (per person/effective person).\n",
      "        params: (dict) Dictionary of parameter values.\n",
      "       \n",
      "    Returns:\n",
      "\n",
      "        y: (array-like) Output (per person/ effective person)\n",
      "\n",
      "    \"\"\"\n",
      "    # extract params\n",
      "    alpha = params['alpha']\n",
      "    \n",
      "    # Cobb-Douglas production function\n",
      "    y = k**alpha\n",
      "    \n",
      "    return y\n",
      "\n",
      "def marginal_product_capital(t, k, params):\n",
      "    \"\"\"\n",
      "    Marginal product of capital with Cobb-Douglas production function.\n",
      "\n",
      "    Arguments:\n",
      "\n",
      "        t:      (array-like) Time.\n",
      "        k:      (array-like) Capital (per person/effective person).\n",
      "        params: (dict) Dictionary of parameter values.\n",
      "       \n",
      "    Returns:\n",
      "\n",
      "        y_k: (array-like) Derivative of output with respect to capital, k.\n",
      "\n",
      "    \"\"\"\n",
      "    # extract params\n",
      "    alpha = params['alpha']\n",
      "\n",
      "    # marginal product of capital\n",
      "    mpk = alpha * k**(alpha - 1)\n",
      "\n",
      "    return mpk"
     ],
     "language": "python",
     "metadata": {},
     "outputs": [],
     "prompt_number": 4
    },
    {
     "cell_type": "markdown",
     "metadata": {},
     "source": [
      "**Quick note about docstrings and their importance:** Python documentation strings (or docstrings) provide a convenient way of associating documentation with Python modules, functions, classes, and methods. An object's docsting is defined by including a string constant as the first statement in the object's definition. Writing good docstrings for functions is an important part of of doing reproducible research. Never write a function without a docstring!  "
     ]
    },
    {
     "cell_type": "code",
     "collapsed": false,
     "input": [
      "# we can inspect a functions docstring using a question mark...\n",
      "cobb_douglas_output?"
     ],
     "language": "python",
     "metadata": {},
     "outputs": [],
     "prompt_number": 5
    },
    {
     "cell_type": "markdown",
     "metadata": {},
     "source": [
      "### Coding $\\dot{k}$ in Python:\n",
      "Next we need to write another Python function encoding the equation of motion for capital per effective person."
     ]
    },
    {
     "cell_type": "code",
     "collapsed": false,
     "input": [
      "def equation_of_motion_capital(t, k, params):\n",
      "    \"\"\"\n",
      "    Equation of motion for capital (per person/effective person).\n",
      "\n",
      "    Arguments:\n",
      "\n",
      "        t:      (array-like) Time.\n",
      "        k:      (array-like) Capital (per person/effective person).\n",
      "        params: (dict) Dictionary of parameter values.\n",
      "       \n",
      "    Returns:\n",
      "\n",
      "        k_dot: (array-like) Time-derivative of capital (per person/effective \n",
      "               person).\n",
      "\n",
      "    \"\"\"\n",
      "    # extract params\n",
      "    s     = params['s']\n",
      "    n     = params['n']\n",
      "    g     = params['g']\n",
      "    delta = params['delta']\n",
      "\n",
      "    # equation of motion for capital\n",
      "    k_dot = s * cobb_douglas_output(t, k, params) - (n + g + delta) * k\n",
      "    \n",
      "    return k_dot"
     ],
     "language": "python",
     "metadata": {},
     "outputs": [],
     "prompt_number": 6
    },
    {
     "cell_type": "markdown",
     "metadata": {},
     "source": [
      "### Coding $\\frac{\\partial\\dot{k}}{\\partial k}$ in Python:\n",
      "The final piece of the Solow model is a Python function returning the value of the derivative of the equation of motion for capital (per worker/effective worker) with respect to $k$ (i.e., the [Jacobian](http://en.wikipedia.org/wiki/Jacobian_matrix_and_determinant) of the Solow model). "
     ]
    },
    {
     "cell_type": "code",
     "collapsed": false,
     "input": [
      "def solow_jacobian(t, k, params):\n",
      "    \"\"\"\n",
      "    The Jacobian of the Solow model.\n",
      "    \n",
      "    Arguments:\n",
      "\n",
      "        t:      (array-like) Time.\n",
      "        k:      (array-like) Capital (per person/effective person).\n",
      "        params: (dict) Dictionary of parameter values.\n",
      "       \n",
      "    Returns:\n",
      "\n",
      "        jac: (array-like) Value of the derivative of the equation of \n",
      "             motion for capital (per person/effective person) with \n",
      "             respect to k.\n",
      "\n",
      "    \"\"\"\n",
      "    # extract params\n",
      "    s     = params['s']\n",
      "    n     = params['n']\n",
      "    g     = params['g']\n",
      "    delta = params['delta']\n",
      "\n",
      "    k_dot = s * marginal_product_capital(t, k, params) - (n + g + delta)\n",
      "    \n",
      "    return k_dot"
     ],
     "language": "python",
     "metadata": {},
     "outputs": []
    },
    {
     "cell_type": "markdown",
     "metadata": {},
     "source": [
      "Now that we have our model coded, we need to define some parameter values. Recall that the of exogenous parameters of the Solow Model with Cobb-Douglas production are...\n",
      "\n",
      "* $s$: savings rate \n",
      "* $n$: labor force growth rate\n",
      "* $g$: growth rate of technology \n",
      "* $\\alpha$: capital share of output \n",
      "* $\\delta$: rate of capital depreciation\n",
      "* $L(0)$: Initial value for labor supply.\n",
      "* $A(0)$: Initial level of technology.\n",
      "   \n",
      "To store the values of the exogenous parameters of the Solow model we will create a [Python dictionary](http://www.greenteapress.com/thinkpython/html/thinkpython012.html). Where do we get these parameter values? Common method is to pull \"sensible\" values out of ones arse. A better method, which we will cover in the nest task, would be to calibrate the values of the parameters based on real world data. "
     ]
    },
    {
     "cell_type": "code",
     "collapsed": false,
     "input": [
      "# sensible parameter values for the Solow model\n",
      "solow_params = {'alpha':0.33, 'delta':0.04, 'n':0.01, 'g':0.02, 's':0.15, 'A0':1.0, 'L0':1.0}"
     ],
     "language": "python",
     "metadata": {},
     "outputs": []
    },
    {
     "cell_type": "markdown",
     "metadata": {},
     "source": [
      "Now we are ready to create an instance of the `SolowModel` Python class which will represent our Solow model!"
     ]
    },
    {
     "cell_type": "code",
     "collapsed": false,
     "input": [
      "# inspect the SolowModel object...\n",
      "growth.SolowModel?"
     ],
     "language": "python",
     "metadata": {},
     "outputs": []
    },
    {
     "cell_type": "code",
     "collapsed": false,
     "input": [
      "# create an instance of the SolowModel class representing our model!\n",
      "solow = growth.SolowModel(output=cobb_douglas_output, \n",
      "                          mpk=marginal_product_capital,\n",
      "                          k_dot=equation_of_motion_capital, \n",
      "                          jacobian=solow_jacobian, \n",
      "                          params=solow_params)"
     ],
     "language": "python",
     "metadata": {},
     "outputs": []
    },
    {
     "cell_type": "markdown",
     "metadata": {},
     "source": [
      "### Coding the steady state value of $k$ in Python \n",
      "When analyzing growth models we are often care about the long-run steady state of the model.  Because the Solow Model is so simple, we can write down an analytic expression for the steady state value of capital (per worker/effective worker) in terms of the structural parameters of the model. \n",
      "\n",
      "\\begin{equation}\n",
      "  k^* = \\left(\\frac{s}{n+g+\\delta}\\right)^{\\frac{1}{1-\\alpha}} \\tag{1.7}\n",
      "\\end{equation}\n",
      "\n",
      "We code this expression as a Python function as follows..."
     ]
    },
    {
     "cell_type": "code",
     "collapsed": false,
     "input": [
      "def analytic_k_star(params): \n",
      "    \"\"\"Steady-state level of capital (per person/effective person).\"\"\"\n",
      "    # extract params\n",
      "    s     = params['s']\n",
      "    n     = params['n']\n",
      "    g     = params['g']\n",
      "    alpha = params['alpha']\n",
      "    delta = params['delta']\n",
      "    \n",
      "    return (s / (n + g + delta))**(1 / (1 - alpha))"
     ],
     "language": "python",
     "metadata": {},
     "outputs": []
    },
    {
     "cell_type": "markdown",
     "metadata": {},
     "source": [
      "..and then we add this expression to our `SolowModel` instance by first creating a Python dictionary containing the steady state expression and adding it to the model. "
     ]
    },
    {
     "cell_type": "code",
     "collapsed": false,
     "input": [
      "# create a dictionary of steady state expressions...\n",
      "solow_steady_state_funcs = {'k_star':analytic_k_star}"
     ],
     "language": "python",
     "metadata": {},
     "outputs": []
    },
    {
     "cell_type": "code",
     "collapsed": false,
     "input": [
      "# add the dictionary of functions to the model\n",
      "solow.steady_state.set_functions(func_dict=solow_steady_state_funcs)"
     ],
     "language": "python",
     "metadata": {},
     "outputs": []
    },
    {
     "cell_type": "markdown",
     "metadata": {},
     "source": [
      "## Task 2: Calibration:\n",
      "\n",
      "In this task we a simple strategy for calibrating a Solow model with Cobb-Douglas production using data from the [Penn World Tables (PWT)](http://www.rug.nl/research/ggdc/data/penn-world-table).\n",
      "\n",
      "### Capital depreciation rate, $\\delta$: \n",
      "The PWT provides estimated depreciation rates that vary across both time and countries. As an estimate for the rate of capital depreciation for country $i$ I use the time-average of $\\verb|delta_k|_{it}$ as provided by the PWT. \n",
      "\n",
      "### Capital's share of output/income, $\\alpha$: \n",
      "Capital's share for country $i$ in year $t$, $\\alpha_{it}$ is computed as $\\alpha_{it} = 1 - \\verb|labsh|_{it}$, where $\\verb|labsh|_{it}$ is the labor share of output/income for country $i$ in year $t$ provided by the PWT. I then use the time-average of $\\alpha_{it}$ as the estimate of capital's share for country $i$.\n",
      "\n",
      "### Savings rate, $s$: \n",
      "As a measure of the savings rate for country $i$, I take the simple time-average of the annual investment share of real GDP, $\\verb|i_sh|$, for country $i$ from the PWT.\n",
      "\n",
      "### Labor force growth rate, $n$:\n",
      "To obtain a measure of the labor force growth rate for country $i$, I regress the logarithm of total employed persons, $\\verb|emp|$, in country $i$ from the PWT on a constant and a linear time trend.\n",
      "\n",
      "$$ \\ln\\ \\verb|emp|_i = \\beta_0 + \\beta_1 \\verb|t| + \\epsilon_i \\tag{2.1}$$\n",
      "\n",
      "The estimated coefficient $\\beta_1$ is then used as my estimate for the $n$. To estimate the initial number of employed persons, $L_0$, I use $e^{\\beta_0}$ as the estimate for $L_0$.\n",
      "\n",
      "### Growth rate of technology, $g$:\n",
      "To obtain a measure of the growth rate of technology for country $i$, I first adjust the total factor productivity measure reported by the PWT, $\\verb|rtfpna|$ (which excludes the human capital contribution to TFP), and then regress the logarithm of this adjusted measure of TFP, $\\verb|atfpna|$, for country $i$ on a constant and a linear time trend.\n",
      "\n",
      "$$ \\ln\\ \\verb|atfpna|_i = \\beta_0 + \\beta_1 \\verb|t| + \\epsilon_i \\tag{2.2}$$\n",
      "\n",
      "The estimated coefficient $\\beta_1$ is then used as my estimate for the $g$. To estimate the initial level of technology, $A_0$, I use $e^{\\beta_0}$ as the estimate for $A_0$.\n",
      "\n",
      "All of this is being done \"behind the scenes\".  All you need to in order to calibrate the model is pick an [ISO 3 country code](http://en.wikipedia.org/wiki/ISO_3166-1_alpha-3)! Now let's calibrate a Solow model for the UK."
     ]
    },
    {
     "cell_type": "code",
     "collapsed": false,
     "input": [
      "# calibrate the Solow model for Argentina \n",
      "growth.calibrate_cobb_douglas(model=solow, iso3_code='ARG')\n",
      "\n",
      "# display the results\n",
      "solow.params"
     ],
     "language": "python",
     "metadata": {},
     "outputs": []
    },
    {
     "cell_type": "code",
     "collapsed": false,
     "input": [
      "# display k_star for our chosen parameter values\n",
      "print 'k* =', analytic_k_star(solow.params)"
     ],
     "language": "python",
     "metadata": {},
     "outputs": []
    },
    {
     "cell_type": "code",
     "collapsed": false,
     "input": [
      "# compare with our model's dictionary of steady state values \n",
      "solow.steady_state.values"
     ],
     "language": "python",
     "metadata": {},
     "outputs": []
    },
    {
     "cell_type": "markdown",
     "metadata": {},
     "source": [
      "### Short digression about numerical precision:\n",
      "\n",
      "The equation of motion for capital (per person/effective person) should return zero when evaluated at the steady state, $k^*$. Let's check whether or not it does..."
     ]
    },
    {
     "cell_type": "code",
     "collapsed": false,
     "input": [
      "# very close, but not exactly zero!\n",
      "print 'capital(k*) =', solow.k_dot(0, analytic_k_star(solow.params), solow.params)"
     ],
     "language": "python",
     "metadata": {},
     "outputs": []
    },
    {
     "cell_type": "markdown",
     "metadata": {},
     "source": [
      "To a human this is almost, but not \"exactly\", zero. But for most computers there is no difference between this number and *exactly* zero! Why? No computer has infinite precision. Eventually, at a small enough resolution, a computer can no longer tell the difference between two floating point numbers. My computer, which is a 32-bit machine, has the following machine-$\\epsilon$ (i.e., machine \"epsilon\")."
     ]
    },
    {
     "cell_type": "code",
     "collapsed": false,
     "input": [
      "# this is your machine epsilon\n",
      "np.finfo('float').eps"
     ],
     "language": "python",
     "metadata": {},
     "outputs": []
    },
    {
     "cell_type": "markdown",
     "metadata": {},
     "source": [
      " If you have a 64-bit computer, then your machine-$\\epsilon$ will be even smaller!.  "
     ]
    },
    {
     "cell_type": "markdown",
     "metadata": {},
     "source": [
      "### Exercise 1: \n",
      "\n",
      "#### Part a)\n",
      "Derive analytical expressions for the deterministic steady state values of output per effective worker, $y$, and consumption per effective worker, $c$, and then use your results to fill in the blanks in the code below."
     ]
    },
    {
     "cell_type": "code",
     "collapsed": false,
     "input": [
      "def analytic_y_star(params): \n",
      "    \"\"\"The steady-state level of output per effective worker.\"\"\"\n",
      "    # extract params\n",
      "    s     = params['s']\n",
      "    n     = params['n']\n",
      "    g     = params['g']\n",
      "    alpha = params['alpha']\n",
      "    delta = params['delta']\n",
      "    \n",
      "    y_star = # insert your code here!\n",
      "    \n",
      "    return y_star\n",
      "\n",
      "def analytic_c_star(params): \n",
      "    \"\"\"The steady-state level of consumption per effective worker.\"\"\"\n",
      "    # extract params\n",
      "    s     = params['s']\n",
      "    n     = params['n']\n",
      "    g     = params['g']\n",
      "    alpha = params['alpha']\n",
      "    delta = params['delta']\n",
      "    \n",
      "    c_star = # insert your code here!\n",
      "    \n",
      "    return c_star"
     ],
     "language": "python",
     "metadata": {},
     "outputs": []
    },
    {
     "cell_type": "markdown",
     "metadata": {},
     "source": [
      "#### Part b)\n",
      "Create a new dictionary called `new_steady_state_funcs` containing the expression for $k^*, y^*,$ and $c^*$."
     ]
    },
    {
     "cell_type": "code",
     "collapsed": false,
     "input": [
      "# insert your code here!"
     ],
     "language": "python",
     "metadata": {},
     "outputs": []
    },
    {
     "cell_type": "markdown",
     "metadata": {},
     "source": [
      "#### Part c)\n",
      "Use the `set_functions` method of the `SolowModel` class's `steady_state` attribute to add the new dictionary of steady state functions to your model. Then use the `set_values` method of the `steady_state` attribute to re-compute the steady state values."
     ]
    },
    {
     "cell_type": "code",
     "collapsed": false,
     "input": [
      "# insert your code here!"
     ],
     "language": "python",
     "metadata": {},
     "outputs": []
    },
    {
     "cell_type": "markdown",
     "metadata": {},
     "source": [
      "#### Part d)\n",
      "Examine the resulting dictionary which should now contain three values (one for $k^*, y^*$ and $c^*$)."
     ]
    },
    {
     "cell_type": "code",
     "collapsed": false,
     "input": [
      "# insert your code here!"
     ],
     "language": "python",
     "metadata": {},
     "outputs": []
    },
    {
     "cell_type": "markdown",
     "metadata": {},
     "source": [
      "### Exercise 2:\n",
      "\n",
      "Try calibrating your model and computing the steady state values for at least 5 different countries.  How different are the steady state values across countries?  Are there any groups of countries that you think might have systematically lower/higher steady state values?"
     ]
    },
    {
     "cell_type": "code",
     "collapsed": false,
     "input": [
      "# insert your code here!"
     ],
     "language": "python",
     "metadata": {},
     "outputs": []
    },
    {
     "cell_type": "markdown",
     "metadata": {},
     "source": [
      "## Task 3: Graphical analysis of the Solow model using Matplotlib\n",
      "\n",
      "In this task you will learn how to recreate some of the basic diagrams used to analyze the Solow model using the Python library [Matplotlib](http://matplotlib.org/). We start by changing different parameters to see how each change impacts the long-run steady state of the model.  We then focus on short-run dynamics by plotting impulse response functions for various parameter changes.\n",
      "\n",
      "### Long-run comparative statics"
     ]
    },
    {
     "cell_type": "code",
     "collapsed": false,
     "input": [
      "# create a new figure\n",
      "fig = plt.figure(figsize=(8,6))\n",
      "\n",
      "# create a Solow Diagram in one line!\n",
      "solow.plot_solow_diagram(gridmax=15)\n",
      "\n",
      "# Save and display the figure\n",
      "plt.savefig('graphics/Classic-Solow-Diagram.png')\n",
      "plt.show()"
     ],
     "language": "python",
     "metadata": {},
     "outputs": []
    },
    {
     "cell_type": "markdown",
     "metadata": {},
     "source": [
      "Suppose that we want to change parameter values of the model in order to see how the Solow diagram changes. The code in the cell below analyzes a doubling of the savings rate."
     ]
    },
    {
     "cell_type": "code",
     "collapsed": false,
     "input": [
      "# create a new figure\n",
      "fig = plt.figure(figsize=(8,6))\n",
      "\n",
      "# plot comparative statics for the solow model using one line of code!\n",
      "solow.plot_solow_diagram(gridmax=50, param='s', shock=2.0, reset=True)\n",
      "\n",
      "# display the figure\n",
      "plt.show()"
     ],
     "language": "python",
     "metadata": {},
     "outputs": []
    },
    {
     "cell_type": "markdown",
     "metadata": {},
     "source": [
      "### Exercise 3:\n",
      "\n",
      "Describe how, if at all, each of the following developments affects the break-even and actual-investment lines in our basic diagram for the Solow model:\n",
      "\n",
      "#### Part a) \n",
      "The rate of depreciation, $\\delta$, falls by 10%."
     ]
    },
    {
     "cell_type": "code",
     "collapsed": false,
     "input": [
      "# insert your code here!"
     ],
     "language": "python",
     "metadata": {},
     "outputs": []
    },
    {
     "cell_type": "code",
     "collapsed": false,
     "input": [
      "# my solution for GBR\n",
      "%run exercise_3a.py"
     ],
     "language": "python",
     "metadata": {},
     "outputs": []
    },
    {
     "cell_type": "markdown",
     "metadata": {},
     "source": [
      "#### Part b)\n",
      "The rate of technology growth, $g$, doubles."
     ]
    },
    {
     "cell_type": "code",
     "collapsed": false,
     "input": [
      "# insert your code here!"
     ],
     "language": "python",
     "metadata": {},
     "outputs": []
    },
    {
     "cell_type": "code",
     "collapsed": false,
     "input": [
      "# my solution for GBR\n",
      "%run exercise_3b.py"
     ],
     "language": "python",
     "metadata": {},
     "outputs": []
    },
    {
     "cell_type": "markdown",
     "metadata": {},
     "source": [
      "#### Part c)\n",
      "Capital's share of income/output, $\\alpha$, increases by 50%. "
     ]
    },
    {
     "cell_type": "code",
     "collapsed": false,
     "input": [
      "# insert your code here!"
     ],
     "language": "python",
     "metadata": {},
     "outputs": []
    },
    {
     "cell_type": "code",
     "collapsed": false,
     "input": [
      "# my solution for GBR\n",
      "%run exercise_3c.py"
     ],
     "language": "python",
     "metadata": {},
     "outputs": []
    },
    {
     "cell_type": "markdown",
     "metadata": {},
     "source": [
      "### Short-run comparative statics\n",
      "\n",
      "Suppose that we start the Solow economy in steady-state with current parameter values and then at $t=2000$ shock the economy by doubling the savings rate. How should we expect the time-paths of captial, output, and consumption per effective worker to respond? \n",
      "\n",
      "We can assess the short-run comparative statics of the Solow model by plotting [impulse response functions (IRFs)](http://en.wikipedia.org/wiki/Impulse_response).  The `plot_impulse_response` method of the `SolowModel` class can be used to plot three different types of impulse response functions (i.e., ``efficiency_units``, ``per_capita``, or ``levels``) following a multiplicative shock to any of the models exogenous parameters. The syntax for plotting the IRF for a doubling of the savings rate in efficiency units would be as follows... "
     ]
    },
    {
     "cell_type": "code",
     "collapsed": false,
     "input": [
      "# calibrate for the ZWE\n",
      "growth.calibrate_cobb_douglas(model=solow, iso3_code='ZWE')\n",
      "\n",
      "# plot the impulse response function\n",
      "fig_kwargs = {'figsize':(12,8)}\n",
      "solow.plot_impulse_response(variables='all',         # which variables to plot? 'all', 'k', 'y', 'c'?\n",
      "                            param='s',               # parameter we wish to shock\n",
      "                            shock=1.5,               # magnitude of the multiplicative shock\n",
      "                            T=100,                   # length of the IRF \n",
      "                            color='b',               # color for the irfs \n",
      "                            year=1970,               # year in which the shock hits\n",
      "                            kind='efficiency_units', # what type of IRFs to plot\n",
      "                            log=False,               # logarithmic scale for y-axis?\n",
      "                            reset=True,              # reset parameter values following shock?\n",
      "                            **fig_kwargs)  \n",
      "plt.show()"
     ],
     "language": "python",
     "metadata": {},
     "outputs": []
    },
    {
     "cell_type": "markdown",
     "metadata": {},
     "source": [
      "Increasing the savings rate will cause both capital and output per effective worker to increase montonically towards their new, higher long-run steady state values. In the short-run, consumption per effective worker must fall; however, the long-run impact on consumption per effective worker is ambiguous and depends on the position of the *ex ante* and *ex post* steady state levels of capital per effecetive worker relative to the \"Golden-rule\" level and the magnitude of the shock."
     ]
    },
    {
     "cell_type": "markdown",
     "metadata": {},
     "source": [
      "### Exercise 4:\n",
      "\n",
      "Plot impulse response functions for the following parameter changes in efficiency units, per capita units, and levels by changing the `kind` argument of the `plot_impulse_response` method to `kind=='efficiency_units'`, `kind=='per_capita'`, `kind=='levels'`, respectively.\n",
      "\n",
      "#### Part a) \n",
      "A positive shock to capital's share, $\\alpha$."
     ]
    },
    {
     "cell_type": "code",
     "collapsed": false,
     "input": [
      "# insert your code here!"
     ],
     "language": "python",
     "metadata": {},
     "outputs": []
    },
    {
     "cell_type": "code",
     "collapsed": false,
     "input": [
      "# my solution for GBR in efficiency units\n",
      "%run exercise_4a.py"
     ],
     "language": "python",
     "metadata": {},
     "outputs": []
    },
    {
     "cell_type": "markdown",
     "metadata": {},
     "source": [
      "#### Part b)\n",
      "A negative shock to the population growth rate, $n$."
     ]
    },
    {
     "cell_type": "code",
     "collapsed": false,
     "input": [
      "# insert your code here!"
     ],
     "language": "python",
     "metadata": {},
     "outputs": []
    },
    {
     "cell_type": "code",
     "collapsed": false,
     "input": [
      "# my solution for GBR in per capita units\n",
      "%run exercise_4b.py"
     ],
     "language": "python",
     "metadata": {},
     "outputs": []
    },
    {
     "cell_type": "markdown",
     "metadata": {},
     "source": [
      "#### Part c)\n",
      "A negative shock to the growth rate of technology, $g$."
     ]
    },
    {
     "cell_type": "code",
     "collapsed": false,
     "input": [
      "# insert your code here!"
     ],
     "language": "python",
     "metadata": {},
     "outputs": []
    },
    {
     "cell_type": "code",
     "collapsed": false,
     "input": [
      "# my solution for GBR in per capita units\n",
      "%run exercise_4c.py"
     ],
     "language": "python",
     "metadata": {},
     "outputs": []
    },
    {
     "cell_type": "markdown",
     "metadata": {},
     "source": [
      "#### Part d)\n",
      "A positive shock to the capital depreciation rate, $\\delta$."
     ]
    },
    {
     "cell_type": "code",
     "collapsed": false,
     "input": [
      "# insert your code here!"
     ],
     "language": "python",
     "metadata": {},
     "outputs": []
    },
    {
     "cell_type": "code",
     "collapsed": false,
     "input": [
      "# my solution for GBR in efficiency units\n",
      "%run exercise_4d.py"
     ],
     "language": "python",
     "metadata": {},
     "outputs": []
    },
    {
     "cell_type": "markdown",
     "metadata": {},
     "source": [
      "#### Part e)\n",
      "A negative shock to the savings rate, $s$."
     ]
    },
    {
     "cell_type": "code",
     "collapsed": false,
     "input": [
      "# insert your code here!"
     ],
     "language": "python",
     "metadata": {},
     "outputs": []
    },
    {
     "cell_type": "code",
     "collapsed": false,
     "input": [
      "# my solution for GBR in efficiency units \n",
      "%run exercise_4e.py"
     ],
     "language": "python",
     "metadata": {},
     "outputs": []
    },
    {
     "cell_type": "markdown",
     "metadata": {},
     "source": [
      "## Task 4: Assessing the stability of the Solow Model \n",
      "\n",
      "So long as the initial levels of capital, labor, and technology are all strictly positive, the Solow model is globally stable: given any initial condition for capital per effective worker, $k$, the dynamics of the Solow model will push $k$ towards its long-run, steady state value, $k^*$. This information can be summarized graphically by a phase diagram.  The `SolowModel` class has a method for plotting the phase diagram of the model..."
     ]
    },
    {
     "cell_type": "code",
     "collapsed": false,
     "input": [
      "# calibrate the model to Germany\n",
      "growth.calibrate_cobb_douglas(model=solow, iso3_code='DEU')"
     ],
     "language": "python",
     "metadata": {},
     "outputs": []
    },
    {
     "cell_type": "code",
     "collapsed": false,
     "input": [
      "# compare to figure 1.3 from Chapter 1 of Romer's text!\n",
      "fig = plt.figure(figsize=(8,6))\n",
      "solow.plot_phase_diagram()\n",
      "plt.show()"
     ],
     "language": "python",
     "metadata": {},
     "outputs": []
    },
    {
     "cell_type": "markdown",
     "metadata": {},
     "source": [
      "The phase diagram suggests another way to assess stability of the Solow model: the derivative of the equation of motion for capital per effective worker should be negative when evaluated at the steady state value, $k^*$."
     ]
    },
    {
     "cell_type": "markdown",
     "metadata": {},
     "source": [
      "### Exercise 5:\n",
      "Evaluate the Jacobian for the Solow model at the steady state value of capital per effective worker and confirm that the result is indeed negative."
     ]
    },
    {
     "cell_type": "code",
     "collapsed": false,
     "input": [
      "# insert your code here!"
     ],
     "language": "python",
     "metadata": {},
     "outputs": []
    },
    {
     "cell_type": "markdown",
     "metadata": {},
     "source": [
      "We can overlay a plot of the linearized equation of motion for capital (per person/effective person) for comparison purposes. For values of $k < k^*$, the linearized equation of motion will lead to an over-estimate of the true speeed of convergence; for value of $k > k^*$, the lineaized equation of motion will lead to an under estimate of the true speed of convergence. "
     ]
    },
    {
     "cell_type": "code",
     "collapsed": false,
     "input": [
      "fig = plt.figure(figsize=(8,6))\n",
      "solow.plot_phase_diagram(linearize=True)\n",
      "plt.show()"
     ],
     "language": "python",
     "metadata": {},
     "outputs": []
    },
    {
     "cell_type": "markdown",
     "metadata": {},
     "source": [
      "For the Germany, the speed of convergence computed using the linearized equation of motion over estimates the true speed of convergence implied by the model by roughly 1.1%."
     ]
    },
    {
     "cell_type": "code",
     "collapsed": false,
     "input": [
      "k_star = solow.steady_state.values['k_star']\n",
      "grid   = np.linspace(0.5 * k_star, 1.5 * k_star, 1000)\n",
      "\n",
      "# percentage approximation error for speed of convergence...\n",
      "percentage_error = (solow.k_dot(0, grid, solow.params) - solow.linearized_k_dot(grid)) / solow.k_dot(0, grid, solow.params)"
     ],
     "language": "python",
     "metadata": {},
     "outputs": []
    },
    {
     "cell_type": "code",
     "collapsed": false,
     "input": [
      "# average error\n",
      "np.mean(percentage_error[np.isfinite(percentage_error)])"
     ],
     "language": "python",
     "metadata": {},
     "outputs": []
    },
    {
     "cell_type": "markdown",
     "metadata": {},
     "source": [
      "## Task 5: Simulating the Solow Model\n",
      "Before discussing these numerical methods we should stop and consider whether or not there are any special cases (i.e., combintions of parameters) for which the Solow model might have an analytic solution. Analytic results can be very useful in building intuition about the economic mechanisms at play in a model and they are invaluable for debugging code and assessing the accurayc of numerical methods.\n",
      "\n",
      "It just so happens that the Solow model with Cobb-Douglas production has a general analytic solution!"
     ]
    },
    {
     "cell_type": "markdown",
     "metadata": {},
     "source": [
      "### Analytic solution\n",
      "The Solow model with Cobb-Douglas production happens to have a completely general analytic solution (see handout for the mathematics if interested in how this result is derived).\n",
      "\n",
      "$$ k(t) = \\left[\\left(\\frac{s}{n+g+\\delta}\\right)\\left(1 -  e^{-(n + g + \\delta) (1-\\alpha) t}\\right) + k_0^{1-\\alpha}e^{-(n + g + \\delta) (1-\\alpha) t}\\right]^{\\frac{1}{1-\\alpha}}$$\n",
      "\n",
      "Here is a Python function encoding the analytic solution..."
     ]
    },
    {
     "cell_type": "code",
     "collapsed": false,
     "input": [
      "def solow_analytic_solution(k0, t, params):\n",
      "    \"\"\"\n",
      "    Computes the analytic solution for the Solow model with Cobb-Douglas\n",
      "    production technology.\n",
      "    \n",
      "    Arguments:\n",
      "        \n",
      "        k0:     (float) Initial value for capital (per person/effective person)  \n",
      "        \n",
      "        t:      (array-like) (T,) array of points at which the solution is \n",
      "                desired.\n",
      "            \n",
      "        params: (dict) Dictionary of model parameters.\n",
      "            \n",
      "    Returns:\n",
      "            \n",
      "        analytic_traj: (array-like) (T,2) array representing the analytic \n",
      "                       solution trajectory.\n",
      "\n",
      "    \"\"\"\n",
      "    # extract parameter values\n",
      "    g     = params['g']\n",
      "    n     = params['n']\n",
      "    s     = params['s']\n",
      "    alpha = params['alpha']\n",
      "    delta = params['delta']\n",
      "        \n",
      "    # lambda governs the speed of convergence\n",
      "    lmbda = (n + g + delta) * (1 - alpha)\n",
      "        \n",
      "    # analytic solution for Solow model at time t\n",
      "    k_t   = (((s / (n + g + delta)) * (1 - np.exp(-lmbda * t)) + \n",
      "              k0**(1 - alpha) * np.exp(-lmbda * t))**(1 / (1 - alpha)))\n",
      "        \n",
      "    # combine into a (T, 2) array\n",
      "    analytic_traj = np.hstack((t[:,np.newaxis], k_t[:,np.newaxis]))\n",
      "    \n",
      "    return analytic_traj"
     ],
     "language": "python",
     "metadata": {},
     "outputs": []
    },
    {
     "cell_type": "markdown",
     "metadata": {},
     "source": [
      "We can generate an analytic trajectory for our Solow model like so..."
     ]
    },
    {
     "cell_type": "code",
     "collapsed": false,
     "input": [
      "# specify some initial conditions\n",
      "k0 = 0.5 * solow.steady_state.values['k_star']\n",
      "\n",
      "# grid of t values for which we want to value of k(t)\n",
      "grid = np.linspace(0, 100, 10)\n",
      "\n",
      "# generate a trajectory!\n",
      "solow_analytic_solution(k0, grid, solow.params)"
     ],
     "language": "python",
     "metadata": {},
     "outputs": []
    },
    {
     "cell_type": "markdown",
     "metadata": {},
     "source": [
      "...and we can make a plot of this trajectory like so..."
     ]
    },
    {
     "cell_type": "code",
     "collapsed": false,
     "input": [
      "plt.figure(figsize=(8,6))\n",
      "\n",
      "# plot this trajectory\n",
      "analytic_trajectory = solow_analytic_solution(k0, grid, solow.params)\n",
      "plt.plot(grid, analytic_trajectory[:,1], 'r-')\n",
      "\n",
      "# demarcate k*\n",
      "plt.axhline(solow.steady_state.values['k_star'], linestyle='dashed', \n",
      "            color='k', label='$k^*$')\n",
      "\n",
      "# axes, labels, title, etc\n",
      "plt.xlabel('Time, $t$', fontsize=15)\n",
      "plt.ylabel('$k(t)$', rotation='horizontal', fontsize=15, family='serif')\n",
      "plt.title('Analytic trajectory for the Solow model', fontsize=20, family='serif')\n",
      "plt.legend(loc='best', frameon=False)\n",
      "\n",
      "plt.show()"
     ],
     "language": "python",
     "metadata": {},
     "outputs": []
    },
    {
     "cell_type": "markdown",
     "metadata": {},
     "source": [
      "...finally, let's plot trajectories for different initial conditions."
     ]
    },
    {
     "cell_type": "code",
     "collapsed": false,
     "input": [
      "plt.figure(figsize=(8,6))\n",
      "\n",
      "# lower and upper bounds for initial conditions\n",
      "k_l = 0.5 * solow.steady_state.values['k_star']\n",
      "k_u = 2.0 * solow.steady_state.values['k_star']\n",
      "\n",
      "for k0 in np.linspace(k_l, k_u, 5):\n",
      "    # plot this trajectory\n",
      "    plt.plot(grid, solow_analytic_solution(k0, grid, solow.params)[:,1])\n",
      "\n",
      "# demarcate k*\n",
      "plt.axhline(solow.steady_state.values['k_star'], linestyle='dashed', \n",
      "            color='k', label='$k^*$')\n",
      "\n",
      "# axes, labels, title, etc\n",
      "plt.xlabel('Time, $t$', fontsize=15, family='serif')\n",
      "plt.ylabel('$k(t)$', rotation='horizontal', fontsize=15, family='serif')\n",
      "plt.title('Analytic trajectories for the Solow model', fontsize=20, family='serif')\n",
      "plt.legend(loc='best', frameon=False)\n",
      "\n",
      "plt.show()"
     ],
     "language": "python",
     "metadata": {},
     "outputs": []
    },
    {
     "cell_type": "markdown",
     "metadata": {},
     "source": [
      "### Linearized solution:\n",
      "As discussed in your lectures, a commonly used approach to study the behavior of the Solow model is to linearize the equation of motion for capital (per person/effective person) around its long-run equilibrium value of $k^*$.\n",
      "\n",
      "The code in the cell below computes analytic and linearized solution trajectories and then plots them for comparison."
     ]
    },
    {
     "cell_type": "code",
     "collapsed": false,
     "input": [
      "plt.figure(figsize=(8,6))\n",
      "\n",
      "# plot analytic and linearized trajectoryies\n",
      "k0   = 0.5 * solow.steady_state.values['k_star']\n",
      "grid = np.linspace(0, 100, 100)\n",
      "\n",
      "analytic_trajectory = solow_analytic_solution(k0, grid, solow.params)\n",
      "linearized_trajectory = solow.linearized_solution(k0, grid)\n",
      "\n",
      "plt.plot(grid, analytic_trajectory[:,1], 'r-', label='Analytic')\n",
      "plt.plot(grid, linearized_trajectory[:,1], 'b-', label='Linearized')\n",
      "\n",
      "# demarcate k*\n",
      "plt.axhline(solow.steady_state.values['k_star'], linestyle='dashed', \n",
      "            color='k', label='$k^*$')\n",
      "\n",
      "# axes, labels, title, etc\n",
      "plt.xlabel('Time, $t$', fontsize=15)\n",
      "plt.ylabel('$k(t)$', rotation='horizontal', fontsize=15, family='serif')\n",
      "plt.title('Analytic trajectory for the Solow model', fontsize=20, family='serif')\n",
      "plt.legend(loc='best', frameon=False, prop={'family':'serif'})\n",
      "\n",
      "plt.show()"
     ],
     "language": "python",
     "metadata": {},
     "outputs": []
    },
    {
     "cell_type": "markdown",
     "metadata": {},
     "source": [
      "Compute the approximation error of the linearized solution using the $L^2$ norm (i.e., euclidean distance).\n",
      "\n",
      "$$L^2 \\text{error} = \\left[\\sum_{i=0}^n(traj_{1,i} - traj_{2,i})^2\\right]^{\\frac{1}{2}}$$"
     ]
    },
    {
     "cell_type": "code",
     "collapsed": false,
     "input": [
      "# inspect the source code for the get_L2_errors method\n",
      "solow.get_L2_errors??"
     ],
     "language": "python",
     "metadata": {},
     "outputs": []
    },
    {
     "cell_type": "code",
     "collapsed": false,
     "input": [
      "# compute the L2 errors\n",
      "solow.get_L2_errors(analytic_trajectory, linearized_trajectory)"
     ],
     "language": "python",
     "metadata": {},
     "outputs": []
    },
    {
     "cell_type": "markdown",
     "metadata": {},
     "source": [
      "Alternative way of computing the approximation error of the linearized solution using the $L^{\\infty}$ norm (i.e., maximal distance).\n",
      "\n",
      "$$L^{\\infty} \\text{error} = \\max_{i=1,\\dots,n} |traj_{1,i} - traj_{2,i}|$$"
     ]
    },
    {
     "cell_type": "code",
     "collapsed": false,
     "input": [
      "# compute the maximal errors\n",
      "solow.get_maximal_errors(analytic_trajectory, linearized_trajectory)"
     ],
     "language": "python",
     "metadata": {},
     "outputs": []
    },
    {
     "cell_type": "markdown",
     "metadata": {},
     "source": [
      "Although the $L^2$ and $L^{\\infty}$ metrics are often used to measure approximation error, it is often not obvious how to interpret their magnitudes. Another measure, that is often more interpretable (if less formal), is to simply normalize the absolute differences between the two trajectories by the analytic solution and take the average."
     ]
    },
    {
     "cell_type": "code",
     "collapsed": false,
     "input": [
      "# absolute percentage errors \n",
      "np.mean(solow.compare_trajectories(analytic_trajectory, linearized_trajectory)[:,0] / analytic_trajectory[:,1])"
     ],
     "language": "python",
     "metadata": {},
     "outputs": []
    },
    {
     "cell_type": "markdown",
     "metadata": {},
     "source": [
      "In general, the absolute magnitude of the approximation error doesn't mean that much (obviously one would like it too be small!). What you should really care about is the size of these errors relative to other approximation methods."
     ]
    },
    {
     "cell_type": "markdown",
     "metadata": {},
     "source": [
      "## Task 6: Finite-difference methods for solving initial value problems\n",
      "We are finally ready to discuss numerical methods for solving IVPs in general and the Solow model in particular.  In general, an initial value problem (IVP) has the form\n",
      "\n",
      "\\begin{equation}\n",
      "\t\\textbf{y}'= \\textbf{f}(t ,\\textbf{y}),\\ t \\ge t_0,\\ \\textbf{y}(t_0) = \\textbf{y}_0 \\tag{6.1}\n",
      "\\end{equation}\n",
      "\n",
      "where $\\textbf{f}:[t_0,\\infty) \\times \\mathbb{R}^n\\rightarrow\\mathbb{R}^n$ and the initial condition $\\textbf{y}_0 \\in \\mathbb{R}^n$ is a given vector. Note that we could also specify an initial value problem by replacing the initial condition with a terminal condition of the form $\\textbf{y}(T) = \\textbf{y}_T$. The key point is that the solution $\\textbf{y}(t)$ is pinned down at one $t\\in[t_0, T]$. In the case where $n=1$, then equation 1.2 reduces to a single differential equation; when $n>1$, equation 1.2 defines a system of ordinary differential equations.  Initial value problems are perhaps the most basic example of a functional equation.  The unknown in this problem is the function $\\textbf{y}(t): [t_0,T] \\subset \\mathbb{R}\\rightarrow\\mathbb{R}^n$ that satisfies the initial condition $\\textbf{y}(t_0) = \\textbf{y}_0$.  So long as the function $\\textbf{f}$ is reasonably well-behaved, the function $\\textbf{y}(t)$ exists and is unique.\n",
      "\n",
      "Out Solow model with Cobb-Douglas production can be formulated as an initial value problem (IVP) as follows.\n",
      "\n",
      "\\begin{equation}\n",
      "  \\dot{k} = sk(t)^{\\alpha} - (n+g+\\delta)k(t),\\ t\\ge t_0,\\ k(t_0) = k_0 \\tag{6.1}\n",
      "\\end{equation}\n",
      "\n",
      "The solution to this IVP is a function $k(t)$ describing the time-path of capital per effective worker. Our objective in this section will be to explore methods for approximating the function $k(t)$. The methods we will learn are completely general and can be used to solve any IVP. Those interested in learning more about these methods should start by reading Chapter 10 of [*Numerical Methods for Economists*](http://mitpress.mit.edu/books/numerical-methods-economics) by Ken Judd before proceeding to John Butcher's excellent book entitled [*Numerical Methods for solving Ordinary Differential Equations*](http://www.shivanian.com/teaching%20avtivities/Butcher.pdf).\n",
      "\n",
      "### Forward Euler method\n",
      "\n",
      "The simplest scheme for numerically approximating the solution to an IVP is known as the *forward Euler method*. The basic idea behind the forward Euler method is to estimate the exact solution $k(t)$ by making the approximation $f(t, k(t)) \\approx f(t_0, k(t_0))$ for $t \\in [t_0, t_0 + h]$ and some sufficiently small $h > 0$. \n",
      "\n",
      "Integrating the Solow model and applying the Euler approximation yields the following.\n",
      "\n",
      "$$k(t) = k(t_0) + \\int_{t_0}^{t} f(\\tau, k(\\tau))d\\tau \\approx k_0 + (t - t_0)f(t_0, k_0) \\tag{6.2}$$\n",
      "\n",
      "For some ordered grid of values for $t_0, t_1 = t_0 + h, t_2 = t_0 + 2h, \\dots$, let $k_n$ denote the numerical estimate of the extact solution $k(t_n)$.  Applying our approximation scheme to the initial condition yields the Euler estimate for $k_1$.\n",
      "\n",
      "$$k_1 = k_0 + h f(t_0, k_0) \\tag{6.3}$$\n",
      "\n",
      "Repeated application of the above idea yields a recursive formulation of the forward Euler method \n",
      "\n",
      "$$k_{n+1} = k_n + h f(t_n, k_n),\\ n=0,1,\\dots \\tag{6.4}$$\n",
      "\n",
      "where $h >0$ denotes the size of the step. \n",
      "\n",
      "<div align='center'> \n",
      "  <img src=\"https://raw.github.com/davidrpugh/computational-econ-labs/master/graduate/Lab-1/graphics/forward-euler.png\" alt=\"Forward Euler\"/>\n",
      "</div>\n",
      "\n",
      "Note that the forward Euler method \"overshoots\" the solution, $k(t)$, when it is concave. The opposite would be true if the solution had been convex. From the graphic it should be clear that the size of the error will depend criticaly on the choice of the step size, $h$. The step size parameter, $h$, controls the \"fineness\" of the $t$ grid: a smaller step size requires a larger number of grid points to cover any arbitrary interval $[t_0, t_0 + t^*]$. Does the forward Euler method converge to the exact solution, $k(t)$ on the arbitrary interval $[t_0, t_0 + t^*]$ as the step size, $h \\rightarrow 0$, toward zero? Yes it does! How fast does the forward Euler method converge to the true solution? Not very! The approximation error of the forward Euler method is proportional to the step size, $h$, implying that reducing the step size by a factor of 10 only reduces the approximation error by a factor of 10."
     ]
    },
    {
     "cell_type": "code",
     "collapsed": false,
     "input": [
      "# check out the docstring\n",
      "solow.integrate?"
     ],
     "language": "python",
     "metadata": {},
     "outputs": []
    },
    {
     "cell_type": "code",
     "collapsed": false,
     "input": [
      "# solve the model using the forward Euler method\n",
      "k0 = 0.5 * solow.steady_state.values['k_star']\n",
      "forward_euler_traj = solow.integrate(t0=0, y0=k0, h=2.0, T=100, integrator='forward_euler')"
     ],
     "language": "python",
     "metadata": {},
     "outputs": []
    },
    {
     "cell_type": "code",
     "collapsed": false,
     "input": [
      "# examine the trajectory\n",
      "forward_euler_traj"
     ],
     "language": "python",
     "metadata": {},
     "outputs": []
    },
    {
     "cell_type": "code",
     "collapsed": false,
     "input": [
      "# how fast is the forward euler method\n",
      "%timeit -n 1 -r 3 solow.integrate(0, 10, 2.0, 1000, integrator='forward_euler')"
     ],
     "language": "python",
     "metadata": {},
     "outputs": []
    },
    {
     "cell_type": "code",
     "collapsed": false,
     "input": [
      "# plot the forward euler approximation and the analytic solution\n",
      "plt.figure(figsize=(8,6))\n",
      "\n",
      "grid = forward_euler_traj[:,0]\n",
      "analytic_trajectory = solow_analytic_solution(k0, grid, solow.params)\n",
      "\n",
      "plt.plot(grid, forward_euler_traj[:,1], 'o', markersize=3.0, label='forward Euler')\n",
      "plt.plot(grid, analytic_trajectory[:,1], 'r-', label='Analytic')\n",
      "\n",
      "# demarcate k*\n",
      "plt.axhline(solow.steady_state.values['k_star'], linestyle='dashed', \n",
      "            color='k', label='$k^*$')\n",
      "\n",
      "# axes, labels, title, etc\n",
      "plt.xlabel('Time, $t$', fontsize=15)\n",
      "plt.ylabel('$k(t)$', rotation='horizontal', fontsize=15)\n",
      "plt.title('Approximation of $k(t)$ using the forward Euler method', fontsize=15, family='serif')\n",
      "plt.legend(loc='best', frameon=False)\n",
      "plt.show()"
     ],
     "language": "python",
     "metadata": {},
     "outputs": []
    },
    {
     "cell_type": "markdown",
     "metadata": {},
     "source": [
      "This simple method already twice as accurate as linearized solution!"
     ]
    },
    {
     "cell_type": "code",
     "collapsed": false,
     "input": [
      "# compute the max approximation error \n",
      "solow.get_maximal_errors(forward_euler_traj, analytic_trajectory)"
     ],
     "language": "python",
     "metadata": {},
     "outputs": []
    },
    {
     "cell_type": "markdown",
     "metadata": {},
     "source": [
      "Theory tells us that the approximation error of the forward Euler method is proportional to the step size, $h$. Thus if we decrease the step size by a factor of 10, then the approximation error should also fall by a factor of 10.  Let's confirm this result... "
     ]
    },
    {
     "cell_type": "code",
     "collapsed": false,
     "input": [
      "# decrease the step size by a factor of 10\n",
      "forward_euler_traj_2 = solow.integrate(0, k0, h=0.2, T=100, integrator='forward_euler')\n",
      "\n",
      "# compute new analytic trajectory\n",
      "grid = forward_euler_traj_2[:,0]\n",
      "analytic_trajectory_2 = solow_analytic_solution(k0, grid, solow.params)\n",
      "\n",
      "# compute the max approximation error\n",
      "solow.get_maximal_errors(forward_euler_traj_2, analytic_trajectory_2)"
     ],
     "language": "python",
     "metadata": {},
     "outputs": []
    },
    {
     "cell_type": "markdown",
     "metadata": {},
     "source": [
      "We can also plot the approximation error..."
     ]
    },
    {
     "cell_type": "code",
     "collapsed": false,
     "input": [
      "# check out the docstring\n",
      "solow.plot_approximation_error?"
     ],
     "language": "python",
     "metadata": {},
     "outputs": []
    },
    {
     "cell_type": "code",
     "collapsed": false,
     "input": [
      "fig = plt.figure(figsize=(8,6))\n",
      "\n",
      "# plot the approximation errors\n",
      "ax, traj_error = solow.plot_approximation_error(forward_euler_traj, analytic_trajectory, log=True)\n",
      "traj_error.set_label('h=2.0')\n",
      "traj_error.set_marker('o')\n",
      "traj_error.set_linestyle('none')\n",
      "\n",
      "ax, traj_2_error = solow.plot_approximation_error(forward_euler_traj_2, analytic_trajectory_2, log=True)\n",
      "traj_2_error.set_label('h=0.2')\n",
      "traj_2_error.set_marker('o')\n",
      "traj_2_error.set_linestyle('none')\n",
      "\n",
      "# Change the title and add a legend\n",
      "plt.title('Approximation error using the forward Euler method', fontsize=20, family='serif')\n",
      "plt.legend(loc='best', frameon=False)\n",
      "\n",
      "plt.show()"
     ],
     "language": "python",
     "metadata": {},
     "outputs": []
    },
    {
     "cell_type": "markdown",
     "metadata": {},
     "source": [
      "### Backward Euler's method\n",
      "The next approximation scheme we are going to look at is called the *backward Euler method*. Starting from the initial condition, $k_0$, the backward Euler method estimates $k(t_1)$ using the following formula.\n",
      "\n",
      "$$k_1 = k_0 + h f(t_1, k_1) \\tag{6.5}$$\n",
      "\n",
      "This formula is a non-linear equation in the unknown $k_1$ and defines $k_1$ only *implicitly* in terms of $t_0, t_1$, and $k_0$ (all of which are given). Repeated application of the above idea yields a recursive formulation of the backward Euler method \n",
      "\n",
      "$$k_{n+1} = k_n + h f(t_{n+1}, k_{n+1}),\\ n=0,1,\\dots \\tag{6.6}$$\n",
      "\n",
      "where $h >0$ denotes the size of the step. Note that this method requires solving the same number of non-linear equation as there are grid points $t_n,\\ n=0,1,\\dots$.  Lots of different methods exist for solving non-linear equations (or systems of non-linear equations) and solving non-linear equations continues to be a major research topic in numerical analysis. We will touch on some of these methods (the ones that have proven to be of use in economics research) in more detail later in the course. For now, I just want you to remember that you are solving a system of non-linear equations whenever you use any \"implicit\" method for solving an IVP.\n",
      "\n",
      "<div align='center'> \n",
      "  <img src=\"https://raw.github.com/davidrpugh/computational-econ-labs/master/graduate/Lab-1/graphics/backward-euler.png\" alt=\"Backward Euler\"/>\n",
      "</div>\n",
      "\n",
      "Note that the backward Euler method \"undershoots\" the solution, $k(t)$, but not quite as badly compared with the forward Euler method. The opposite would be true if the solution had been convex. As was the case with the forward Euler method, the backward Euler method is convergent and the approximation error is proportional to the step size, $h$. In practice, implicit methods like the backward Euler method have proven to be more \"stable\" (i.e., implicit methods don't always accumulate approximation error as fast as explicit methods) than explicit methods like the forward Euler method and for this reason most \"industrial strength\" IVP solvers tend to be at least partially implicit. "
     ]
    },
    {
     "cell_type": "code",
     "collapsed": false,
     "input": [
      "# solve the model using the backward Euler method\n",
      "backward_euler_traj = solow.integrate(0, k0, h=2.0, T=100, integrator='backward_euler')"
     ],
     "language": "python",
     "metadata": {},
     "outputs": []
    },
    {
     "cell_type": "code",
     "collapsed": false,
     "input": [
      "backward_euler_traj"
     ],
     "language": "python",
     "metadata": {},
     "outputs": []
    },
    {
     "cell_type": "code",
     "collapsed": false,
     "input": [
      "# how fast is the backwards Euler method?\n",
      "%timeit -n 1 -r 3 solow.integrate(0, 10, 2.0, 1000, integrator='backward_euler') "
     ],
     "language": "python",
     "metadata": {},
     "outputs": []
    },
    {
     "cell_type": "code",
     "collapsed": false,
     "input": [
      "# plot the backwards Euler approximation and the analytic solution\n",
      "plt.figure(figsize=(8,6))\n",
      "\n",
      "grid = backward_euler_traj[:,0]\n",
      "\n",
      "plt.plot(grid, backward_euler_traj[:,1], 'go', markersize=3.0, label='backward Euler')\n",
      "plt.plot(grid, analytic_trajectory[:,1], 'r-', label='Analytic')\n",
      "\n",
      "# demarcate k*\n",
      "plt.axhline(solow.steady_state.values['k_star'], linestyle='dashed', \n",
      "            color='k', label='$k^*$')\n",
      "\n",
      "# axes, labels, title, etc\n",
      "plt.xlabel('Time, $t$', fontsize=15)\n",
      "plt.ylabel('$k(t)$', rotation='horizontal', fontsize=15)\n",
      "plt.title('Approximation of $k(t)$ using the backward Euler method', fontsize=15)\n",
      "plt.legend(loc='best', frameon=False)\n",
      "plt.show()"
     ],
     "language": "python",
     "metadata": {},
     "outputs": []
    },
    {
     "cell_type": "code",
     "collapsed": false,
     "input": [
      "# compute the max approximation error...slightly better than the forward Euler method\n",
      "solow.get_maximal_errors(backward_euler_traj, analytic_trajectory)"
     ],
     "language": "python",
     "metadata": {},
     "outputs": []
    },
    {
     "cell_type": "markdown",
     "metadata": {},
     "source": [
      "### Trapezoidal rule\n",
      "The Euler method approximates the derivative of the solution by a constant in the interval $[t_n, t_{n+1}]$. Specifically, Euler's method assumes that the slope of the solution in the interval is equal to its value at the left end point, $f(t_n, y_n)$. Intuitively one might guess that a better way to approximate the derivative of the solution by a constant in the interval would be to take a simple average of the slope of the solution at both end points.  This simple intuition is formalized by the following approximation scheme\n",
      "\n",
      "\\begin{align}\n",
      "\ty(t) =& y(t_n) + \\int_{t_n}^{t} f(\\tau, y(\\tau))d\\tau \\notag \\\\\n",
      "\t\\approx& y(t_n) + \\frac{1}{2}(t - t_n)f(t_0, y(t_n)) + \\frac{1}{2}(t - t_n)f(t_{n+1}, y(t_{n+1})) \\tag{6.7}\n",
      "\\end{align} \n",
      "\n",
      "which leads to the *trapezoidal rule*.\n",
      "\n",
      "\\begin{equation}\n",
      "\ty_{n+1} = y_n + \\frac{1}{2}hf(t_0, y_n) + \\frac{1}{2}hf(t_{n+1}, y_{n+1}) \\tag{6.8}\n",
      "\\end{equation}\n",
      "\n",
      "Do we know that the trapezoidal rule converges to the exact solution $y(t)$ on the arbitrary interval $[t_0, t_0 + t^*]$ as we shrink the step size $h$ toward zero?. Yes! How fast does the trapezoidal rule converge to the exact solution? The trapezoidal rule can be shown to converge quadratically to the exact solution. This means that unlike the forward and backward Euler methods, which were only linearly convergent, with the trapezoidal rule, shrinking the step size by a factor of 10 will reduce the approximation error by a factor of $10^2$ = 100!\n",
      "\n",
      "<div align='center'> \n",
      "  <img src=\"https://raw.github.com/davidrpugh/computational-econ-labs/master/graduate/Lab-1/graphics/trapezoidal-rule.png\" alt=\"Trapezoidal rule\"/>\n",
      "</div>\n",
      "\n",
      "The higher order of convergence means that the trapezoidal rule can often make due with a larger step size than the Euler method while still maintaining the same level of approximation error. However, the improved convergence properties of the trapezoidal rule do not come free (remember that there is no such thing as a free lunch!). The trapezoidal method is an implicit method, and each step requires solving a non-linear equation in the unknown $k_{n+1}$ as well as extra evaluation of the function $f$. In practice, however, the more rapid convergence of the trapezoidal method and ability to use a larger step size often more than compensate for the additional computational burden. "
     ]
    },
    {
     "cell_type": "code",
     "collapsed": false,
     "input": [
      "# solve the model using the trapezoidal rule\n",
      "trapezoidal_rule_traj = solow.integrate(0, k0, h=2.0, T=100, integrator='trapezoidal_rule')"
     ],
     "language": "python",
     "metadata": {},
     "outputs": []
    },
    {
     "cell_type": "code",
     "collapsed": false,
     "input": [
      "trapezoidal_rule_traj"
     ],
     "language": "python",
     "metadata": {},
     "outputs": []
    },
    {
     "cell_type": "code",
     "collapsed": false,
     "input": [
      "# how fast is the trapezoidal rule\n",
      "%timeit -n 1 -r 3 solow.integrate(0, 10, h=2.0, T=1000, integrator='trapezoidal_rule')"
     ],
     "language": "python",
     "metadata": {},
     "outputs": []
    },
    {
     "cell_type": "code",
     "collapsed": false,
     "input": [
      "# plot the trapezoidal rule approximation and the analytic solution\n",
      "plt.figure(figsize=(8,6))\n",
      "\n",
      "grid = trapezoidal_rule_traj[:,0]\n",
      "\n",
      "plt.plot(grid, trapezoidal_rule_traj[:,1], 'yo', markersize=3.0, label='trapezoidal rule')\n",
      "plt.plot(grid, solow_analytic_solution(k0, grid, solow.params)[:,1], 'r-', label='Analytic')\n",
      "\n",
      "# demarcate k*\n",
      "plt.axhline(solow.steady_state.values['k_star'], linestyle='dashed', \n",
      "            color='k', label='$k^*$')\n",
      "\n",
      "# axes, labels, title, etc\n",
      "plt.xlabel('Time, $t$', fontsize=15)\n",
      "plt.ylabel('$k(t)$', rotation='horizontal', fontsize=15)\n",
      "plt.title('Approximation of $k(t)$ using the trapezoidal rule', fontsize=15)\n",
      "plt.legend(loc='best', frameon=False)\n",
      "plt.show()"
     ],
     "language": "python",
     "metadata": {},
     "outputs": []
    },
    {
     "cell_type": "code",
     "collapsed": false,
     "input": [
      "# compute the max approximation error for the trapezoidal rule\n",
      "solow.get_maximal_errors(trapezoidal_rule_traj, analytic_trajectory)"
     ],
     "language": "python",
     "metadata": {},
     "outputs": []
    },
    {
     "cell_type": "code",
     "collapsed": false,
     "input": [
      "# decrease the step size by a factor of 10...\n",
      "trapezoidal_rule_traj_2 = solow.integrate(0, k0, h=0.2, T=100, integrator='trapezoidal_rule')"
     ],
     "language": "python",
     "metadata": {},
     "outputs": []
    },
    {
     "cell_type": "code",
     "collapsed": false,
     "input": [
      "# compute the max approximation error for the trapezoidal rule\n",
      "solow.get_maximal_errors(trapezoidal_rule_traj_2, analytic_trajectory_2)"
     ],
     "language": "python",
     "metadata": {},
     "outputs": []
    },
    {
     "cell_type": "code",
     "collapsed": false,
     "input": [
      "# plot the approximation error\n",
      "fig = plt.figure(figsize=(8,6))\n",
      "\n",
      "# plot the approximation errors\n",
      "ax, traj_error = solow.plot_approximation_error(trapezoidal_rule_traj, analytic_trajectory, log=True)\n",
      "traj_error.set_label('h=2.0')\n",
      "traj_error.set_marker('o')\n",
      "traj_error.set_linestyle('none')\n",
      "\n",
      "ax, traj_2_error = solow.plot_approximation_error(trapezoidal_rule_traj_2, analytic_trajectory_2, log=True)\n",
      "traj_2_error.set_label('h=0.2')\n",
      "traj_2_error.set_marker('o')\n",
      "traj_2_error.set_linestyle('none')\n",
      "\n",
      "# Change the title and add a legend\n",
      "plt.title('Approximation error using the trapezoidal rule', fontsize=20, family='serif')\n",
      "plt.legend(loc='best', frameon=False)\n",
      "\n",
      "plt.show()"
     ],
     "language": "python",
     "metadata": {},
     "outputs": []
    },
    {
     "cell_type": "markdown",
     "metadata": {},
     "source": [
      "## Task 7: Piece-wise Linear Interpolation\n",
      "\n",
      "The above approximation schemes all discretize the independent variable, $t$, and approximate the function $k(t)$ at only a finite number of grid points. What if we need to approximate the value of $k(t)$ in between grid points? Approximating the values of a function between grid points is called interpolation (interpolation happens to be a special case of another technique with which you are already very familiar...namely regression!).\n",
      "\n",
      "The specific interpolation routine that we will use is called [piece-wise linear interpolation](http://en.wikipedia.org/wiki/Linear_interpolation). Linear interpolation is the most basic a method of approximating the value of a function between two points. When you connect two dots with a straight line you are doing linear interpolation. Formally, linear interpolation approximates the function $k$ on the interval $t\\in[t_n, t_{n+1}]$ as \n",
      "\n",
      "$$k(t) \\approx k_n + \\frac{t - t_n}{t_{n+1} - t_n}(k_{n+1} - k_n). \\tag{7.1}$$\n",
      "\n",
      "Here is a nice graphic that gives the basic intuition linear interpolation...\n",
      "\n",
      "<div align='center'> \n",
      "  <img src=\"https://raw.github.com/davidrpugh/computational-econ-labs/master/graduate/solow-lab/graphics/linear-interpolation.png\" alt=\"Linear interpolation\"/>\n",
      "</div>\n",
      "\n",
      "Linear interpolation is a simple, yet robust method, and it will usually be a good place to start when doing your own research projects."
     ]
    },
    {
     "cell_type": "code",
     "collapsed": false,
     "input": [
      "# always check the docstring!\n",
      "solow.interpolate?"
     ],
     "language": "python",
     "metadata": {},
     "outputs": []
    },
    {
     "cell_type": "code",
     "collapsed": false,
     "input": [
      "# create some grid of values for t\n",
      "grid = np.linspace(0, 100, 1000)\n",
      "\n",
      "# simulate a trajectory using linear interpolation to fill in the values between nodes\n",
      "interp_trapezoidal_rule_traj = solow.interpolate(traj=trapezoidal_rule_traj, ti=grid, k=1)\n",
      "\n",
      "# compute new analytic trajectory\n",
      "analytic_trajectory_3 = solow_analytic_solution(k0=k0, t=grid, params=solow.params)"
     ],
     "language": "python",
     "metadata": {},
     "outputs": []
    },
    {
     "cell_type": "code",
     "collapsed": false,
     "input": [
      "# plot the trapezoidal rule approximation and the analytic solution\n",
      "plt.figure(figsize=(8,6))\n",
      "\n",
      "plt.plot(grid, interp_trapezoidal_rule_traj[:,1], 'y', markersize=3.0, label='Trapezoidal rule (linear)')\n",
      "plt.plot(grid, analytic_trajectory_3[:,1], 'r-', label='Analytic')\n",
      "\n",
      "# demarcate k*\n",
      "plt.axhline(solow.steady_state.values['k_star'], linestyle='dashed', \n",
      "            color='k', label='$k^*$')\n",
      "\n",
      "# axes, labels, title, etc\n",
      "plt.xlabel('Time, $t$', fontsize=15)\n",
      "plt.ylabel('$k(t)$', rotation='horizontal', fontsize=15)\n",
      "plt.title('Approximating $k(t)$ using the trapezoidal rule, redux', fontsize=20, family='serif')\n",
      "plt.legend(loc='best', frameon=False)\n",
      "plt.show()"
     ],
     "language": "python",
     "metadata": {},
     "outputs": []
    },
    {
     "cell_type": "code",
     "collapsed": false,
     "input": [
      "# plot the approximation error\n",
      "fig = plt.figure(figsize=(8,6))\n",
      "\n",
      "# plot the approximation errors\n",
      "ax, traj_error = solow.plot_approximation_error(interp_trapezoidal_rule_traj, analytic_trajectory_3, log=True)\n",
      "traj_error.set_label('h=2.0')\n",
      "\n",
      "# Change the title and add a legend\n",
      "plt.title('Trapezoidal rule with linear interpolation', fontsize=20, family='serif')\n",
      "plt.legend(loc='best', frameon=False)\n",
      "\n",
      "plt.show()"
     ],
     "language": "python",
     "metadata": {},
     "outputs": []
    },
    {
     "cell_type": "markdown",
     "metadata": {},
     "source": [
      "None of the approximation schemes that we discussed today are robust enough to use in your own research. However all of the more sophisticated solvers are based on the same principles used in the approaches detailed above and in your notes.  The point of this task was not to expose you to state of the art methods, but rather to give you some intuition as to how the more robust and sophisticated methods work.  \n",
      "\n",
      "Four of the best, most widely used ODE integrators have been implemented in the `scipy.integrate` module (they are called `dopri5`, `dop85`, `lsoda`, and `vode`). Each of these integrators uses some type of adaptive step-size control: the integrator adaptively adjusts the step size $h$ in order to keep the approximation error below some user-specified threshold). The cells below contain code which compares the approximation error of the forward Euler with those of [`lsoda`](http://computation.llnl.gov/casc/nsde/pubs/u113855.pdf) and [`vode`](http://jeffreydk.site50.net/papers/BDFmethodpaper.pdf). Instead of simple linear interpolation (i.e., `k=`1), I set `k=5` for 5th order [B-spline](http://en.wikipedia.org/wiki/B-spline) interpolation."
     ]
    },
    {
     "cell_type": "code",
     "collapsed": false,
     "input": [
      "# grid of interpolatiom points\n",
      "interp_grid = np.linspace(0, 200, 1000)\n",
      "\n",
      "# solve using the lsoda integrator\n",
      "kwargs={'with_jacobian':True, 'rtol':1e-9}\n",
      "lsoda_traj = solow.integrate(0, k0, 1.0, T=200, integrator='lsoda', **kwargs)\n",
      "lsoda_traj_interp = solow.interpolate(lsoda_traj, interp_grid, k=5)\n",
      "                                      \n",
      "# solve using the vode integrator\n",
      "kwargs={'with_jacobian':True, 'method':'adams', 'rtol':1e-9}\n",
      "vode_traj = solow.integrate(0, k0, 1.0, T=200, integrator='vode', **kwargs)\n",
      "vode_traj_interp = solow.interpolate(vode_traj, interp_grid, k=5)\n",
      "\n",
      "# solve using the trapezoidal rule\n",
      "am1_traj = solow.integrate(0, k0, 1.0, T=200, integrator='backward_euler')\n",
      "am1_traj_interp = solow.interpolate(am1_traj, interp_grid, k=5)\n",
      "\n",
      "# compute the analytic trajectory\n",
      "grid = lsoda_traj[:,0]\n",
      "analytic_trajectory = solow_analytic_solution(k0, interp_grid, solow.params)\n",
      "\n",
      "# compute the linearized trajectory\n",
      "linearized_trajectory = solow.linearized_solution(k0, interp_grid)"
     ],
     "language": "python",
     "metadata": {},
     "outputs": []
    },
    {
     "cell_type": "code",
     "collapsed": false,
     "input": [
      "fig = plt.figure(figsize=(8,6))\n",
      "colors = mpl.cm.jet(np.linspace(0, 1, 4))\n",
      "\n",
      "# plot the approximation error for lsoda\n",
      "traj_error = solow.plot_approximation_error(lsoda_traj_interp, \n",
      "                                            analytic_trajectory, \n",
      "                                            log=True)[1]\n",
      "traj_error.set_label('lsoda')\n",
      "traj_error.set_color(colors[0])\n",
      "\n",
      "# plot the approximation error for vode\n",
      "traj_error_2 = solow.plot_approximation_error(vode_traj_interp, \n",
      "                                              analytic_trajectory, \n",
      "                                              log=True)[1]\n",
      "traj_error_2.set_label('vode')\n",
      "traj_error_2.set_color(colors[1])\n",
      "\n",
      "# plot the approximation error for trapezoidal rule\n",
      "traj_error_3 = solow.plot_approximation_error(am1_traj_interp, \n",
      "                                              analytic_trajectory, \n",
      "                                              log=True)[1]\n",
      "traj_error_3.set_label('Backward Euler')\n",
      "traj_error_3.set_color(colors[2])\n",
      "\n",
      "# plot the approximation error for linearized trajectory\n",
      "traj_error_4 = solow.plot_approximation_error(linearized_trajectory, \n",
      "                                              analytic_trajectory, \n",
      "                                              log=True)[1]\n",
      "traj_error_4.set_label('Linearization')\n",
      "traj_error_4.set_color(colors[3])\n",
      "\n",
      "# demarcate machine eps\n",
      "plt.axhline(np.finfo('float').eps, color='k', ls='--', \n",
      "            label=r'Machine-$\\epsilon$')\n",
      "\n",
      "# change the title and add a legend\n",
      "plt.ylim(1e-18, 1e0)\n",
      "plt.title('The benefits of using adaptive step-size control\\n' + \n",
      "          'with linear multi-step methods', fontsize=20, family='serif')\n",
      "plt.legend(loc='best', frameon=False, prop={'family':'serif'}, bbox_to_anchor=(1.025, 1.0))\n",
      "plt.show()"
     ],
     "language": "python",
     "metadata": {},
     "outputs": []
    },
    {
     "cell_type": "code",
     "collapsed": false,
     "input": [],
     "language": "python",
     "metadata": {},
     "outputs": []
    }
   ],
   "metadata": {}
  }
 ]
}